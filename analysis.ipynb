{
 "cells": [
  {
   "cell_type": "markdown",
   "id": "3e94cc8e",
   "metadata": {},
   "source": [
    "# Analysis - Notebook pour les graphiques et comparaisons\n",
    "> Contient les analyses graphiques après calculs et manipulations (interprétation)"
   ]
  },
  {
   "cell_type": "code",
   "execution_count": 7,
   "id": "babc7b11",
   "metadata": {},
   "outputs": [],
   "source": [
    "# Work in Progress ...\n",
    "# Le but sera d'interpréter les valeurs contenues dans le fichiers des résultats et d'en faire une interprétation \n",
    "# visuelle et écrite selon la forme et l'allure des graphes fournis."
   ]
  }
 ],
 "metadata": {
  "kernelspec": {
   "display_name": "base",
   "language": "python",
   "name": "python3"
  },
  "language_info": {
   "codemirror_mode": {
    "name": "ipython",
    "version": 3
   },
   "file_extension": ".py",
   "mimetype": "text/x-python",
   "name": "python",
   "nbconvert_exporter": "python",
   "pygments_lexer": "ipython3",
   "version": "3.12.4"
  }
 },
 "nbformat": 4,
 "nbformat_minor": 5
}
